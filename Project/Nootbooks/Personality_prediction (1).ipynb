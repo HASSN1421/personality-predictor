{
 "cells": [
  {
   "cell_type": "code",
   "execution_count": 13,
   "id": "f7d7c1ec-540a-429e-b79b-6d83aca8b2d3",
   "metadata": {},
   "outputs": [
    {
     "name": "stdout",
     "output_type": "stream",
     "text": [
      "Requirement already satisfied: ipywidgets in c:\\users\\hassa\\appdata\\local\\programs\\python\\python313\\lib\\site-packages (8.1.7)\n",
      "Requirement already satisfied: comm>=0.1.3 in c:\\users\\hassa\\appdata\\local\\programs\\python\\python313\\lib\\site-packages (from ipywidgets) (0.2.2)\n",
      "Requirement already satisfied: ipython>=6.1.0 in c:\\users\\hassa\\appdata\\local\\programs\\python\\python313\\lib\\site-packages (from ipywidgets) (9.3.0)\n",
      "Requirement already satisfied: traitlets>=4.3.1 in c:\\users\\hassa\\appdata\\local\\programs\\python\\python313\\lib\\site-packages (from ipywidgets) (5.14.3)\n",
      "Requirement already satisfied: widgetsnbextension~=4.0.14 in c:\\users\\hassa\\appdata\\local\\programs\\python\\python313\\lib\\site-packages (from ipywidgets) (4.0.14)\n",
      "Requirement already satisfied: jupyterlab_widgets~=3.0.15 in c:\\users\\hassa\\appdata\\local\\programs\\python\\python313\\lib\\site-packages (from ipywidgets) (3.0.15)\n",
      "Requirement already satisfied: colorama in c:\\users\\hassa\\appdata\\local\\programs\\python\\python313\\lib\\site-packages (from ipython>=6.1.0->ipywidgets) (0.4.6)\n",
      "Requirement already satisfied: decorator in c:\\users\\hassa\\appdata\\local\\programs\\python\\python313\\lib\\site-packages (from ipython>=6.1.0->ipywidgets) (5.2.1)\n",
      "Requirement already satisfied: ipython-pygments-lexers in c:\\users\\hassa\\appdata\\local\\programs\\python\\python313\\lib\\site-packages (from ipython>=6.1.0->ipywidgets) (1.1.1)\n",
      "Requirement already satisfied: jedi>=0.16 in c:\\users\\hassa\\appdata\\local\\programs\\python\\python313\\lib\\site-packages (from ipython>=6.1.0->ipywidgets) (0.19.2)\n",
      "Requirement already satisfied: matplotlib-inline in c:\\users\\hassa\\appdata\\local\\programs\\python\\python313\\lib\\site-packages (from ipython>=6.1.0->ipywidgets) (0.1.7)\n",
      "Requirement already satisfied: prompt_toolkit<3.1.0,>=3.0.41 in c:\\users\\hassa\\appdata\\local\\programs\\python\\python313\\lib\\site-packages (from ipython>=6.1.0->ipywidgets) (3.0.51)\n",
      "Requirement already satisfied: pygments>=2.4.0 in c:\\users\\hassa\\appdata\\local\\programs\\python\\python313\\lib\\site-packages (from ipython>=6.1.0->ipywidgets) (2.19.1)\n",
      "Requirement already satisfied: stack_data in c:\\users\\hassa\\appdata\\local\\programs\\python\\python313\\lib\\site-packages (from ipython>=6.1.0->ipywidgets) (0.6.3)\n",
      "Requirement already satisfied: wcwidth in c:\\users\\hassa\\appdata\\local\\programs\\python\\python313\\lib\\site-packages (from prompt_toolkit<3.1.0,>=3.0.41->ipython>=6.1.0->ipywidgets) (0.2.13)\n",
      "Requirement already satisfied: parso<0.9.0,>=0.8.4 in c:\\users\\hassa\\appdata\\local\\programs\\python\\python313\\lib\\site-packages (from jedi>=0.16->ipython>=6.1.0->ipywidgets) (0.8.4)\n",
      "Requirement already satisfied: executing>=1.2.0 in c:\\users\\hassa\\appdata\\local\\programs\\python\\python313\\lib\\site-packages (from stack_data->ipython>=6.1.0->ipywidgets) (2.2.0)\n",
      "Requirement already satisfied: asttokens>=2.1.0 in c:\\users\\hassa\\appdata\\local\\programs\\python\\python313\\lib\\site-packages (from stack_data->ipython>=6.1.0->ipywidgets) (3.0.0)\n",
      "Requirement already satisfied: pure-eval in c:\\users\\hassa\\appdata\\local\\programs\\python\\python313\\lib\\site-packages (from stack_data->ipython>=6.1.0->ipywidgets) (0.2.3)\n",
      "Note: you may need to restart the kernel to use updated packages.\n"
     ]
    }
   ],
   "source": [
    "pip install ipywidgets"
   ]
  },
  {
   "cell_type": "code",
   "execution_count": 14,
   "id": "e60ad85f-a42b-4e45-a3c5-34496f42a2b6",
   "metadata": {},
   "outputs": [],
   "source": [
    "import pandas as pd\n",
    "import joblib\n",
    "import ipywidgets as widgets\n",
    "from IPython.display import display, clear_output"
   ]
  },
  {
   "cell_type": "code",
   "execution_count": 15,
   "id": "75e1de43-72f2-44b5-880e-7d46b511d0ac",
   "metadata": {},
   "outputs": [],
   "source": [
    "# import sys\n",
    "# import os\n",
    "# sys.path.append(os.getcwd())\n"
   ]
  },
  {
   "cell_type": "code",
   "execution_count": 16,
   "id": "25299073-93e3-49f8-897d-d767997f0cf2",
   "metadata": {},
   "outputs": [],
   "source": [
    "from custom_functions import convert_yes_no_columns\n"
   ]
  },
  {
   "cell_type": "code",
   "execution_count": 17,
   "id": "14509873-977d-45f4-8909-d2badabee91c",
   "metadata": {},
   "outputs": [],
   "source": [
    "\n",
    "model = joblib.load('LR_for_personality.pkl')\n"
   ]
  },
  {
   "cell_type": "code",
   "execution_count": 18,
   "id": "d2c004ab-560b-4ddd-9b5f-411ea4f68ed3",
   "metadata": {},
   "outputs": [],
   "source": [
    "Stage_fear = widgets.Dropdown(options=['yes', 'no'], description='Stage_fear:')\n",
    "Drained = widgets.Dropdown(options=['yes', 'no'], description='Drained Socially:')\n",
    "Post_Freq = widgets.IntSlider(value=2, min=0, max=10, description='Post Frequency:')\n",
    "Going_Out = widgets.IntSlider(value=3, min=0, max=7, description='Going_Out:')\n",
    "Friends = widgets.IntSlider(value=2, min=0, max=15, description='Friends:')\n",
    "events = widgets.IntSlider(value=3, min=0, max=10, description='Events Attended:')\n",
    "alone_time = widgets.IntSlider(value=5, min=0, max=11, description='Alone Hours:')"
   ]
  },
  {
   "cell_type": "code",
   "execution_count": 19,
   "id": "dc7e2954-117d-4d62-a64d-4f16417200d1",
   "metadata": {},
   "outputs": [],
   "source": [
    "button = widgets.Button(description='Predict')\n",
    "reset_button = widgets.Button(description=\"Reset\", button_style='warning')\n",
    "output = widgets.Output()\n"
   ]
  },
  {
   "cell_type": "code",
   "execution_count": 20,
   "id": "e314c7ed-cbdd-4467-a65e-b5b39a6f5a3b",
   "metadata": {},
   "outputs": [],
   "source": [
    "def on_button_click(b):\n",
    "    with output:\n",
    "        clear_output()\n",
    "        data = pd.DataFrame({\n",
    "           \n",
    "            'hours_daily_Alone': [alone_time.value],\n",
    "            'Stage_fear': [Stage_fear.value],\n",
    "            'Social_event_attendance': [events.value],\n",
    "            'Going_outside': [Going_Out.value],\n",
    "            'Drained_after_socializing': [Drained.value],\n",
    "            'Friends_circle_size': [Friends.value],\n",
    "            'Post_frequency': [Post_Freq.value]\n",
    "        })\n",
    "\n",
    "        pred = model.predict(data)[0]\n",
    "        result = \"Extrovert\" if pred == 1 else \"Introvert\"\n",
    "        print(f\"Predicted Personality: {result}\")\n"
   ]
  },
  {
   "cell_type": "code",
   "execution_count": 21,
   "id": "52d5cfb5-b83f-47eb-8b68-ab2abaeeba17",
   "metadata": {},
   "outputs": [],
   "source": [
    "def on_reset_click(b):\n",
    "    Stage_fear.value = 'yes'\n",
    "    Drained.value = 'no'\n",
    "    Post_Freq.value = 0\n",
    "    Going_Out.value = 0\n",
    "    Friends.value = 0\n",
    "    events.value = 0\n",
    "    alone_time.value = 0\n",
    "    output.clear_output()\n",
    "\n",
    "button.on_click(on_button_click)\n",
    "reset_button.on_click(on_reset_click)\n",
    "\n"
   ]
  },
  {
   "cell_type": "code",
   "execution_count": 22,
   "id": "3431fdbe-372f-4f23-ab39-09e0b13c7749",
   "metadata": {},
   "outputs": [],
   "source": [
    "def predict_personality(b):\n",
    "    clear_output()\n",
    "    data = pd.DataFrame({\n",
    "           \n",
    "            'hours_daily_Alone': [alone_time.value],\n",
    "            'Stage_fear': [Stage_fear.value],\n",
    "            'Social_event_attendance': [events.value],\n",
    "            'Going_outside': [Going_Out.value],\n",
    "            'Drained_after_socializing': [Drained.value],\n",
    "            'Friends_circle_size': [Friends.value],\n",
    "            'Post_frequency': [Post_Freq.value]\n",
    "        })\n",
    "    prediction = model.predict(data)\n",
    "    print(\"Prediction:\", prediction[0])\n",
    "\n",
    "button.on_click(predict_personality)\n"
   ]
  },
  {
   "cell_type": "code",
   "execution_count": 23,
   "id": "87903902-89a9-457d-8c1e-1510f5133745",
   "metadata": {},
   "outputs": [],
   "source": [
    "# button.on_click(on_button_click)\n",
    "# display(Stage_fear, Drained,\n",
    "#         Post_Freq, Going_Out, Friends, events, alone_time,\n",
    "#         button, output)"
   ]
  },
  {
   "cell_type": "code",
   "execution_count": 24,
   "id": "97206515-de4a-493f-a7d2-e15e335893b5",
   "metadata": {},
   "outputs": [
    {
     "data": {
      "application/vnd.jupyter.widget-view+json": {
       "model_id": "10b2553eb4a74f76be4cd423462bef28",
       "version_major": 2,
       "version_minor": 0
      },
      "text/plain": [
       "Dropdown(description='Stage_fear:', options=('yes', 'no'), value='yes')"
      ]
     },
     "metadata": {},
     "output_type": "display_data"
    },
    {
     "data": {
      "application/vnd.jupyter.widget-view+json": {
       "model_id": "59c8908f8fc5481bac2563b62cc181f9",
       "version_major": 2,
       "version_minor": 0
      },
      "text/plain": [
       "Dropdown(description='Drained Socially:', options=('yes', 'no'), value='yes')"
      ]
     },
     "metadata": {},
     "output_type": "display_data"
    },
    {
     "data": {
      "application/vnd.jupyter.widget-view+json": {
       "model_id": "f972a09dc7ee43ba9a40fedcc896c128",
       "version_major": 2,
       "version_minor": 0
      },
      "text/plain": [
       "IntSlider(value=2, description='Post Frequency:', max=10)"
      ]
     },
     "metadata": {},
     "output_type": "display_data"
    },
    {
     "data": {
      "application/vnd.jupyter.widget-view+json": {
       "model_id": "ee3ebe9a646547abbbdd8d3713daece5",
       "version_major": 2,
       "version_minor": 0
      },
      "text/plain": [
       "IntSlider(value=3, description='Going_Out:', max=7)"
      ]
     },
     "metadata": {},
     "output_type": "display_data"
    },
    {
     "data": {
      "application/vnd.jupyter.widget-view+json": {
       "model_id": "e991e340cc1f42b3a36eb65365153af7",
       "version_major": 2,
       "version_minor": 0
      },
      "text/plain": [
       "IntSlider(value=2, description='Friends:', max=15)"
      ]
     },
     "metadata": {},
     "output_type": "display_data"
    },
    {
     "data": {
      "application/vnd.jupyter.widget-view+json": {
       "model_id": "2c2d03e8852d454f8c07f9475a6fa5f4",
       "version_major": 2,
       "version_minor": 0
      },
      "text/plain": [
       "IntSlider(value=3, description='Events Attended:', max=10)"
      ]
     },
     "metadata": {},
     "output_type": "display_data"
    },
    {
     "data": {
      "application/vnd.jupyter.widget-view+json": {
       "model_id": "6befa834dad54d2f945b20b97872dbae",
       "version_major": 2,
       "version_minor": 0
      },
      "text/plain": [
       "IntSlider(value=5, description='Alone Hours:', max=11)"
      ]
     },
     "metadata": {},
     "output_type": "display_data"
    },
    {
     "data": {
      "application/vnd.jupyter.widget-view+json": {
       "model_id": "07b4f41cf9e741cb84a24a070c6c7fd3",
       "version_major": 2,
       "version_minor": 0
      },
      "text/plain": [
       "Button(description='Predict', style=ButtonStyle())"
      ]
     },
     "metadata": {},
     "output_type": "display_data"
    },
    {
     "data": {
      "application/vnd.jupyter.widget-view+json": {
       "model_id": "be9040d28c2243dfa63edada01827493",
       "version_major": 2,
       "version_minor": 0
      },
      "text/plain": [
       "Button(button_style='warning', description='Reset', style=ButtonStyle())"
      ]
     },
     "metadata": {},
     "output_type": "display_data"
    },
    {
     "data": {
      "application/vnd.jupyter.widget-view+json": {
       "model_id": "96499ab0714f4ff19b5d8684b293a817",
       "version_major": 2,
       "version_minor": 0
      },
      "text/plain": [
       "Output()"
      ]
     },
     "metadata": {},
     "output_type": "display_data"
    }
   ],
   "source": [
    "display(Stage_fear, Drained, Post_Freq, Going_Out, Friends, events, alone_time, button, reset_button, output)"
   ]
  },
  {
   "cell_type": "code",
   "execution_count": null,
   "id": "71fd0989-b75c-4ba9-8b0a-5768d9bf344f",
   "metadata": {},
   "outputs": [],
   "source": []
  },
  {
   "cell_type": "code",
   "execution_count": null,
   "id": "de935b1b-948e-4501-96d9-589b63eb930e",
   "metadata": {},
   "outputs": [],
   "source": []
  },
  {
   "cell_type": "code",
   "execution_count": null,
   "id": "7092cce5-523b-4f5d-8baf-5df45e95ef20",
   "metadata": {},
   "outputs": [],
   "source": []
  },
  {
   "cell_type": "code",
   "execution_count": null,
   "id": "0b74bdde-1c81-4bd1-b8df-c2857976f4f5",
   "metadata": {},
   "outputs": [],
   "source": []
  }
 ],
 "metadata": {
  "kernelspec": {
   "display_name": "Python 3 (ipykernel)",
   "language": "python",
   "name": "python3"
  },
  "language_info": {
   "codemirror_mode": {
    "name": "ipython",
    "version": 3
   },
   "file_extension": ".py",
   "mimetype": "text/x-python",
   "name": "python",
   "nbconvert_exporter": "python",
   "pygments_lexer": "ipython3",
   "version": "3.13.3"
  }
 },
 "nbformat": 4,
 "nbformat_minor": 5
}
